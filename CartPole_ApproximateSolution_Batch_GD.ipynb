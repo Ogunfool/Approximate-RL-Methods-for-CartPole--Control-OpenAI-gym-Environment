{
  "nbformat": 4,
  "nbformat_minor": 0,
  "metadata": {
    "colab": {
      "provenance": [],
      "authorship_tag": "ABX9TyNAiXOgCb5JEdQAQ2AZ1dPv",
      "include_colab_link": true
    },
    "kernelspec": {
      "name": "python3",
      "display_name": "Python 3"
    },
    "language_info": {
      "name": "python"
    }
  },
  "cells": [
    {
      "cell_type": "markdown",
      "metadata": {
        "id": "view-in-github",
        "colab_type": "text"
      },
      "source": [
        "<a href=\"https://colab.research.google.com/github/Ogunfool/Approximate-RL-Methods-for-CartPole-Environment-on-OpenAI-gym/blob/main/CartPole_ApproximateSolution_Batch_GD.ipynb\" target=\"_parent\"><img src=\"https://colab.research.google.com/assets/colab-badge.svg\" alt=\"Open In Colab\"/></a>"
      ]
    },
    {
      "cell_type": "code",
      "execution_count": 12,
      "metadata": {
        "id": "QS1lvLYKBadL"
      },
      "outputs": [],
      "source": [
        "# Monte Carlo Gradient Ascent (Batch GD)\n",
        "import gym\n",
        "import numpy as np\n",
        "import matplotlib.pyplot as plt\n",
        "from sklearn.kernel_approximation import RBFSampler\n",
        "\n",
        "\n",
        "GAMMA = 0.99\n",
        "ALPHA = 0.1\n",
        "\n",
        "\n",
        "def epsilon_greedy(model, s, eps=0.1):\n",
        "  # we'll use epsilon-soft to ensure all states are visited\n",
        "  # what happens if you don't do this? i.e. eps=0\n",
        "  p = np.random.random()\n",
        "  if p < (1 - eps):\n",
        "    values = model.predict_all_actions(s)\n",
        "    return np.argmax(values)\n",
        "  else:\n",
        "    return model.env.action_space.sample()\n",
        "\n",
        "\n",
        "def gather_samples(env, n_episodes=10000):\n",
        "  samples = []\n",
        "  for _ in range(n_episodes):\n",
        "    s = env.reset()\n",
        "    done = False\n",
        "    truncated = False\n",
        "    while not (done or truncated):\n",
        "      a = env.action_space.sample()\n",
        "      sa = np.concatenate((s, [a]))\n",
        "      samples.append(sa)\n",
        "\n",
        "      s, r, done, truncated = env.step(a)\n",
        "  return samples\n",
        "\n",
        "def play_one_episode(env, model):\n",
        "  # Create lists for states, actions and rewards\n",
        "  states = []\n",
        "  rewards = [0]\n",
        "  actions = []\n",
        "  # Now play the game\n",
        "  s = env.reset()\n",
        "  episode_reward = 0\n",
        "  done = False\n",
        "  truncated = False\n",
        "  while not (done or truncated):\n",
        "    a = epsilon_greedy(model, s)\n",
        "    s2, r, done, truncated = env.step(a)\n",
        "    # Append to list\n",
        "    states.append(s)\n",
        "    rewards.append(r)\n",
        "    actions.append(a)\n",
        "\n",
        "    s =s2\n",
        "  # print(\"States:\", states, \"Rewards:\", rewards, \"Actions:\", actions)\n",
        "  return states, rewards, actions\n",
        "\n",
        "class Model:\n",
        "  def __init__(self, env):\n",
        "    # fit the featurizer to data\n",
        "    self.env = env\n",
        "    samples = gather_samples(env)\n",
        "    self.featurizer = RBFSampler()\n",
        "    self.featurizer.fit(samples)\n",
        "    dims = self.featurizer.n_components\n",
        "\n",
        "    # initialize linear model weights\n",
        "    self.w = np.zeros(dims)\n",
        "\n",
        "  def predict(self, s, a):\n",
        "    sa = np.concatenate((s, [a]))\n",
        "    x = self.featurizer.transform([sa])[0]\n",
        "    return x @ self.w\n",
        "\n",
        "  def predict_all_actions(self, s):\n",
        "    return [self.predict(s, a) for a in range(self.env.action_space.n)]\n",
        "\n",
        "  def grad(self, s, a):\n",
        "    sa = np.concatenate((s, [a]))\n",
        "    x = self.featurizer.transform([sa])[0]\n",
        "    return x\n",
        "\n",
        "\n",
        "def test_agent(model, env, n_episodes=20):\n",
        "  reward_per_episode = np.zeros(n_episodes)\n",
        "  for it in range(n_episodes):\n",
        "    done = False\n",
        "    truncated = False\n",
        "    episode_reward = 0\n",
        "    s = env.reset()\n",
        "    while not (done or truncated):\n",
        "      a = epsilon_greedy(model, s, eps=0)\n",
        "      s, r, done, truncated = env.step(a)\n",
        "      episode_reward += r\n",
        "    reward_per_episode[it] = episode_reward\n",
        "  return np.mean(reward_per_episode)\n",
        "\n",
        "\n",
        "def watch_agent(model, env, eps):\n",
        "  done = False\n",
        "  truncated = False\n",
        "  episode_reward = 0\n",
        "  s = env.reset()\n",
        "  while not (done or truncated):\n",
        "    a = epsilon_greedy(model, s, eps=eps)\n",
        "    s, r, done, truncated = env.step(a)\n",
        "    episode_reward += r\n",
        "  print(\"Episode reward:\", episode_reward)\n",
        "\n"
      ]
    },
    {
      "cell_type": "code",
      "source": [
        "BATCH_SIZE = 64\n",
        "\n",
        "# repeat until convergence\n",
        "env = gym.make(\"CartPole-v1\")\n",
        "model = Model(env)\n",
        "reward_per_episode = []\n",
        "\n",
        "for it in range(2000):\n",
        "\n",
        "  # Some lists np.zeros(T)for batch GD\n",
        "  G_store = []\n",
        "  Values_store = []\n",
        "  g_store = []\n",
        "  episode_batch = []\n",
        "\n",
        "  for batch in range(BATCH_SIZE): # A single batch\n",
        "    # Collect states, rewards and actions for a single episode \n",
        "    states, rewards, actions = play_one_episode(env, model) \n",
        "    # print(states)\n",
        "    # print(rewards)\n",
        "    # print(actions)\n",
        "\n",
        "    G = 0\n",
        "    T = len(states)\n",
        "    episode_reward = 0\n",
        "\n",
        "    for  t in range(T-2, -1, -1):\n",
        "      s = states[t]\n",
        "      r = rewards[t+1]\n",
        "      a = actions[t]\n",
        "      G = r + GAMMA*G # Smart Update rule \n",
        "\n",
        "      # accumulate reward\n",
        "      episode_reward += r\n",
        "\n",
        "    # Accumulate G and Values for single episode for BGD\n",
        "    G_store.append(G)\n",
        "    Values_store.append(model.predict(s,a))\n",
        "    g_store.append(model.grad(s,a))\n",
        "    episode_batch.append(episode_reward)\n",
        "\n",
        "\n",
        "  # print(np.array(G_store).shape)\n",
        "  # print(np.array(Values_store).shape)\n",
        "  # print(np.array(g_store).shape)\n",
        "  # print(len(episode_batch))\n",
        "  # print(len(G_store))\n",
        "  # print(len(Values_store))\n",
        "  # print(len(g_store))\n",
        "\n",
        "\n",
        "  # Let's update Q(s,a) using approximate function\n",
        "  # update the model\n",
        "  model.w += ALPHA * np.dot((np.array(G_store) - np.array(Values_store)), np.array(g_store)) * 2/BATCH_SIZE\n",
        "  \n",
        "  # print(model.w.shape)\n",
        "\n",
        "  if (it + 1) % 50 == 0:\n",
        "    print(f\"Episode: {it + 1}, Reward: {np.mean(episode_batch)}\")\n",
        "\n",
        "  # early exit\n",
        "  if it > 20 and np.mean(reward_per_episode[-20:]) == 200:\n",
        "    print(\"Early exit\")\n",
        "    break\n",
        "  \n",
        "  reward_per_episode.append(np.mean(episode_batch))\n",
        "\n",
        "# test trained agent\n",
        "test_reward = test_agent(model, env)\n",
        "print(f\"Average test reward: {test_reward}\")\n",
        "\n",
        "plt.plot(reward_per_episode)\n",
        "plt.title(\"Reward per episode\")\n",
        "plt.show()\n",
        "\n",
        "# watch trained agent\n",
        "# env = gym.make(\"CartPole-v1\", render_mode=\"human\")\n",
        "watch_agent(model, env, eps=0)"
      ],
      "metadata": {
        "id": "PmRVcZ-W9q22",
        "colab": {
          "base_uri": "https://localhost:8080/",
          "height": 1000
        },
        "outputId": "500b0712-09ec-444b-f843-2192fc392ad9"
      },
      "execution_count": 14,
      "outputs": [
        {
          "output_type": "stream",
          "name": "stderr",
          "text": [
            "/usr/local/lib/python3.8/dist-packages/gym/core.py:317: DeprecationWarning: \u001b[33mWARN: Initializing wrapper in old step API which returns one bool instead of two. It is recommended to set `new_step_api=True` to use new step API. This will be the default behaviour in future.\u001b[0m\n",
            "  deprecation(\n",
            "/usr/local/lib/python3.8/dist-packages/gym/wrappers/step_api_compatibility.py:39: DeprecationWarning: \u001b[33mWARN: Initializing environment in old step API which returns one bool instead of two. It is recommended to set `new_step_api=True` to use new step API. This will be the default behaviour in future.\u001b[0m\n",
            "  deprecation(\n"
          ]
        },
        {
          "output_type": "stream",
          "name": "stdout",
          "text": [
            "Episode: 50, Reward: 9.0\n",
            "Episode: 100, Reward: 11.71875\n",
            "Episode: 150, Reward: 17.890625\n",
            "Episode: 200, Reward: 22.4375\n",
            "Episode: 250, Reward: 26.15625\n",
            "Episode: 300, Reward: 33.21875\n",
            "Episode: 350, Reward: 38.015625\n",
            "Episode: 400, Reward: 56.625\n",
            "Episode: 450, Reward: 56.625\n",
            "Episode: 500, Reward: 54.40625\n",
            "Episode: 550, Reward: 80.59375\n",
            "Episode: 600, Reward: 91.578125\n",
            "Episode: 650, Reward: 99.265625\n",
            "Episode: 700, Reward: 108.390625\n",
            "Episode: 750, Reward: 85.390625\n",
            "Episode: 800, Reward: 104.703125\n",
            "Episode: 850, Reward: 117.078125\n",
            "Episode: 900, Reward: 89.453125\n",
            "Episode: 950, Reward: 111.59375\n",
            "Episode: 1000, Reward: 109.265625\n",
            "Episode: 1050, Reward: 121.421875\n",
            "Episode: 1100, Reward: 161.515625\n",
            "Episode: 1150, Reward: 112.78125\n",
            "Episode: 1200, Reward: 99.0625\n",
            "Episode: 1250, Reward: 112.515625\n",
            "Episode: 1300, Reward: 97.765625\n",
            "Episode: 1350, Reward: 124.6875\n",
            "Episode: 1400, Reward: 115.015625\n",
            "Episode: 1450, Reward: 94.171875\n",
            "Episode: 1500, Reward: 125.734375\n",
            "Episode: 1550, Reward: 126.53125\n",
            "Episode: 1600, Reward: 138.046875\n",
            "Episode: 1650, Reward: 107.8125\n",
            "Episode: 1700, Reward: 153.6875\n",
            "Episode: 1750, Reward: 116.296875\n",
            "Episode: 1800, Reward: 109.296875\n",
            "Episode: 1850, Reward: 131.890625\n",
            "Episode: 1900, Reward: 141.765625\n",
            "Episode: 1950, Reward: 136.546875\n",
            "Episode: 2000, Reward: 121.796875\n",
            "Average test reward: 176.25\n"
          ]
        },
        {
          "output_type": "display_data",
          "data": {
            "text/plain": [
              "<Figure size 432x288 with 1 Axes>"
            ],
            "image/png": "[encoded data removed]"
          },
          "metadata": {
            "needs_background": "light"
          }
        },
        {
          "output_type": "stream",
          "name": "stdout",
          "text": [
            "Episode reward: 222.0\n"
          ]
        }
      ]
    },
    {
      "cell_type": "markdown",
      "source": [
        "Some checks.."
      ],
      "metadata": {
        "id": "vc9AtyT0ij79"
      }
    },
    {
      "cell_type": "code",
      "source": [
        "print(np.array(g_store).shape, np.array(Values_store).shape, np.array(G_store).shape)"
      ],
      "metadata": {
        "colab": {
          "base_uri": "https://localhost:8080/"
        },
        "id": "avDq5H9rOzjy",
        "outputId": "21ea916c-d209-4a7f-ee35-b59147f36b39"
      },
      "execution_count": 15,
      "outputs": [
        {
          "output_type": "stream",
          "name": "stdout",
          "text": [
            "(64, 100) (64,) (64,)\n"
          ]
        }
      ]
    },
    {
      "cell_type": "markdown",
      "source": [
        "Conclusion: While batch gradient descent with MonteCarlo RL is possible, it isn't advisable because in RL, the policy is being updated and learnt based on the current Q-value estimation. So it is more rfficient to update the policy as soon as possible rather than wait till the end of a batch before the policy is updated, it will require longer training time to get best policies compared to Q-learning and single episode monte-Carlo methods.\n",
        "\n",
        "Also, Q-learning is preferred to MonteCarlo method because the Q-values and policies get updated at the end of each timestep rather than wait till the end of the entire episode. And In the case of function approximation, where the ground truth (true return) itself has to be learnt and updated through experience, it is better to update the Q-values as soon as possible.\n",
        "\n",
        "Finally, we can observe the reward recieved by the agent per batch increasing with the number of iterations."
      ],
      "metadata": {
        "id": "u1Q8oLl7Mckp"
      }
    }
  ]
}